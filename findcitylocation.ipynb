{
 "metadata": {
  "name": "",
  "signature": "sha256:a05270e7312841d6a19a8d9c2a7a4fb18553f11e0fe93a967c9cb1290597f718"
 },
 "nbformat": 3,
 "nbformat_minor": 0,
 "worksheets": [
  {
   "cells": [
    {
     "cell_type": "code",
     "collapsed": false,
     "input": [
      "# install geopy in terminal\n",
      "# pip install geopy\n",
      "from geopy.geocoders import Nominatim\n",
      "from osgeo import ogr, osr\n",
      "\n",
      "# initialise\n",
      "geolocator = Nominatim()\n",
      "coor = []\n",
      "city_coors = {}\n",
      "citynames = []\n",
      "filename =\"cityname.txt\"\n",
      "city_text = open(filename,\"r\")\n",
      "\n",
      "# read the city names to a list\n",
      "for lines in city_text:\n",
      "    citynames +=[lines[:-1]] "
     ],
     "language": "python",
     "metadata": {},
     "outputs": [],
     "prompt_number": 7
    },
    {
     "cell_type": "code",
     "collapsed": false,
     "input": [
      "for the_cityname in citynames:\n",
      "    geolocator = Nominatim()\n",
      "    location = geolocator.geocode(the_cityname)\n",
      "    if location != None:\n",
      "        location.address\n",
      "        coor = \"POINT (\" + str(location.latitude) +' '+ str(location.longitude) + \")\"\n",
      "        city_coors[the_cityname] = coor\n",
      "        the_cityname = ''\n",
      "    else :\n",
      "        print the_cityname ,\"is not exsit\""
     ],
     "language": "python",
     "metadata": {},
     "outputs": [],
     "prompt_number": 2
    },
    {
     "cell_type": "code",
     "collapsed": false,
     "input": [
      "# export to shp file\n",
      "driverName = \"ESRI Shapefile\"\n",
      "drv = ogr.GetDriverByName( driverName )\n",
      "if drv is None:\n",
      "    print \"%s driver not available.\\n\" % driverName\n",
      "else:\n",
      "    print  \"%s driver IS available.\\n\" % driverName"
     ],
     "language": "python",
     "metadata": {},
     "outputs": [
      {
       "output_type": "stream",
       "stream": "stdout",
       "text": [
        "ESRI Shapefile driver IS available.\n",
        "\n"
       ]
      }
     ],
     "prompt_number": 3
    },
    {
     "cell_type": "code",
     "collapsed": false,
     "input": [
      "fn = \"/home/user/data/python_5/citycoordinates.shp\"\n",
      "layername = \"anewlayer\"\n",
      "\n",
      "# Create shape file\n",
      "ds = drv.CreateDataSource(fn)\n",
      "\n",
      "# Set spatial reference\n",
      "spatialReference = osr.SpatialReference()\n",
      "spatialReference.ImportFromEPSG(4326) #WGS84 lat/lon\n",
      "\n",
      "## Create Layer\n",
      "layer=ds.CreateLayer(layername, spatialReference, ogr.wkbPoint)\n",
      "layerDefinition = layer.GetLayerDefn()"
     ],
     "language": "python",
     "metadata": {},
     "outputs": [],
     "prompt_number": 4
    },
    {
     "cell_type": "code",
     "collapsed": false,
     "input": [
      "# Put point and ID as a geometry inside a feature.\n",
      "i = 0\n",
      "for the_cityname in citynames:\n",
      "    pt = ogr.CreateGeometryFromWkt(city_coors[the_cityname])\n",
      "    featureIndex = i\n",
      "    feature = ogr.Feature(layerDefinition)\n",
      "    feature.SetGeometry(pt)\n",
      "    feature.SetFID(featureIndex)\n",
      "    i = i+ 1\n",
      "    # Put feature in a layer.\n",
      "    layer.CreateFeature(feature)"
     ],
     "language": "python",
     "metadata": {},
     "outputs": [],
     "prompt_number": 5
    },
    {
     "cell_type": "code",
     "collapsed": false,
     "input": [
      "# save the shape file\n",
      "ds.Destroy()"
     ],
     "language": "python",
     "metadata": {},
     "outputs": [],
     "prompt_number": 6
    },
    {
     "cell_type": "code",
     "collapsed": false,
     "input": [],
     "language": "python",
     "metadata": {},
     "outputs": []
    }
   ],
   "metadata": {}
  }
 ]
}